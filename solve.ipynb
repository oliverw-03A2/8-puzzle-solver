{
 "cells": [
  {
   "cell_type": "markdown",
   "id": "040ac99b-4ecf-4f19-81c0-b2681d0e51c9",
   "metadata": {},
   "source": [
    "# Solving a 3x3 version of the 15 Puzzle"
   ]
  },
  {
   "cell_type": "markdown",
   "id": "eb6d7519-d7ee-439a-827e-b674ca5f493e",
   "metadata": {},
   "source": [
    "## Drawing Out the Puzzle & Setup"
   ]
  },
  {
   "cell_type": "code",
   "execution_count": 156,
   "id": "ace2ea9f-b0a4-4a24-babe-ffd27ce565aa",
   "metadata": {},
   "outputs": [],
   "source": [
    "# Importing modules\n",
    "import matplotlib.pyplot as plt\n",
    "from copy import deepcopy\n",
    "import random\n",
    "\n",
    "# Draw function to draw a board\n",
    "def draw(array):\n",
    "    fig, ax = plt.subplots(figsize=(6, 6))\n",
    "    ax.axis('off')\n",
    "    positions = [(i, j) for i in range(3) for j in range(3)]\n",
    "    numbers = array\n",
    "    for pos, num in zip(positions, numbers):\n",
    "        ax.text(pos[1] + 0.5, 2.5 - pos[0], str(num), fontsize=30, ha='center', va='center', fontname='Helvetica')\n",
    "    for i in range(4):\n",
    "        ax.plot([i, i], [0, 3], color='black', lw=2)\n",
    "        ax.plot([0, 3], [i, i], color='black', lw=2)\n",
    "    plt.show()"
   ]
  },
  {
   "cell_type": "code",
   "execution_count": 157,
   "id": "66e84d6e-0bbc-4894-99e0-71fa50f978fa",
   "metadata": {},
   "outputs": [],
   "source": [
    "# Seeing if a puzzle is solvable - more information at https://datawookie.dev/blog/2019/04/sliding-puzzle-solvable/\n",
    "def count_inversions(puzzle):\n",
    "    inversions = 0\n",
    "    puzzle = [tile for tile in puzzle if tile != 0]\n",
    "    for i in range(len(puzzle)):\n",
    "        for j in range(i + 1, len(puzzle)):\n",
    "            if puzzle[i] > puzzle[j]:\n",
    "                inversions += 1\n",
    "    return inversions\n",
    "\n",
    "def is_solvable(puzzle):\n",
    "    inversions = count_inversions(puzzle)\n",
    "    return inversions % 2 == 0\n",
    "\n",
    "# Final creation of a puzzle\n",
    "def create():\n",
    "    find_solvable=True\n",
    "    while find_solvable:\n",
    "        nums=list(range(3*3))\n",
    "        random.shuffle(nums)\n",
    "        print(nums)\n",
    "        if is_solvable(nums):\n",
    "            find_solvable=False\n",
    "\n",
    "    return nums"
   ]
  },
  {
   "cell_type": "markdown",
   "id": "74e455f1-8361-4d37-938c-ca63a9328804",
   "metadata": {},
   "source": [
    "## Creating the Network"
   ]
  },
  {
   "cell_type": "code",
   "execution_count": 160,
   "id": "4a146180-f451-4e16-bdc1-bd786625d4d8",
   "metadata": {},
   "outputs": [],
   "source": [
    "# State exploration patterns\n",
    "neighboring_states = \\\n",
    "{0: (1, 3),\n",
    " 1: (0, 2, 4),\n",
    " 2: (1, 5),\n",
    " 3: (0, 4, 6),\n",
    " 4: (1, 3, 5, 7),\n",
    " 5: (2, 4, 8),\n",
    " 6: (3, 7),\n",
    " 7: (6, 4, 8),\n",
    " 8: (5, 7)}"
   ]
  },
  {
   "cell_type": "code",
   "execution_count": 163,
   "id": "e5860b47-76b3-44a2-ad36-0b94fd44a82f",
   "metadata": {},
   "outputs": [],
   "source": [
    "# Solve function\n",
    "\n",
    "def solve(board):\n",
    "    q = [(board, [board], 0)]\n",
    "    goal = [1, 2, 3, 4, 5, 6, 7, 8, 0]\n",
    "    explored = []\n",
    "    \n",
    "    while q:\n",
    "        cur, path, steps = q.pop(0)\n",
    "        empty_index = cur.index(0)\n",
    "        \n",
    "        if cur == goal:\n",
    "            return (path, steps)\n",
    "        \n",
    "        next_states = neighboring_states[empty_index]\n",
    "        \n",
    "        for next_state in next_states:\n",
    "            cur_new = deepcopy(cur)\n",
    "            cur_new[empty_index], cur_new[next_state] = cur_new[next_state], cur_new[empty_index]\n",
    "            \n",
    "            if cur_new not in explored:\n",
    "                q.append((cur_new, path + [cur_new], steps + 1))\n",
    "                explored.append(cur_new)\n",
    "    \n",
    "    return None"
   ]
  },
  {
   "cell_type": "code",
   "execution_count": null,
   "id": "433fe24a-1688-4d4d-8279-7ff07f297643",
   "metadata": {},
   "outputs": [],
   "source": [
    "# Visualization\n",
    "solution = solve([8, 1, 2, 5, 4, 3, 0, 6, 7])\n",
    "\n",
    "if solution:\n",
    "    path, steps = solution\n",
    "    print(f\"Solution found in {steps} steps: \")\n",
    "    \n",
    "    for step_num, board in enumerate(path):\n",
    "        print(f\"Step {step_num} - \")\n",
    "        draw(board)\n",
    "\n",
    "else:\n",
    "    print(\"No solution found.\")\n"
   ]
  },
  {
   "cell_type": "code",
   "execution_count": null,
   "id": "0d61a50d-7fbd-4ac4-9452-efe7e345758c",
   "metadata": {},
   "outputs": [],
   "source": []
  }
 ],
 "metadata": {
  "kernelspec": {
   "display_name": "Python 3 (ipykernel)",
   "language": "python",
   "name": "python3"
  },
  "language_info": {
   "codemirror_mode": {
    "name": "ipython",
    "version": 3
   },
   "file_extension": ".py",
   "mimetype": "text/x-python",
   "name": "python",
   "nbconvert_exporter": "python",
   "pygments_lexer": "ipython3",
   "version": "3.11.5"
  }
 },
 "nbformat": 4,
 "nbformat_minor": 5
}
